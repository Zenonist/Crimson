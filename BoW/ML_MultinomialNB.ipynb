{
 "cells": [
  {
   "cell_type": "code",
   "execution_count": 28,
   "metadata": {},
   "outputs": [],
   "source": [
    "import pandas as pd\n",
    "import numpy as np\n",
    "from pythainlp import word_tokenize\n",
    "import warnings\n",
    "import re\n",
    "import string\n",
    "warnings.filterwarnings('ignore')"
   ]
  },
  {
   "cell_type": "code",
   "execution_count": 29,
   "metadata": {},
   "outputs": [
    {
     "data": {
      "text/html": [
       "<div>\n",
       "<style scoped>\n",
       "    .dataframe tbody tr th:only-of-type {\n",
       "        vertical-align: middle;\n",
       "    }\n",
       "\n",
       "    .dataframe tbody tr th {\n",
       "        vertical-align: top;\n",
       "    }\n",
       "\n",
       "    .dataframe thead th {\n",
       "        text-align: right;\n",
       "    }\n",
       "</style>\n",
       "<table border=\"1\" class=\"dataframe\">\n",
       "  <thead>\n",
       "    <tr style=\"text-align: right;\">\n",
       "      <th></th>\n",
       "      <th>News Title</th>\n",
       "      <th>News_Intro</th>\n",
       "      <th>News_Desc</th>\n",
       "      <th>News_All</th>\n",
       "      <th>Gambling</th>\n",
       "      <th>Murder</th>\n",
       "      <th>Sexual Abuse</th>\n",
       "      <th>Theft/Burglary</th>\n",
       "      <th>Drug</th>\n",
       "      <th>Battery/Assault</th>\n",
       "      <th>Accident</th>\n",
       "      <th>Non-Crime</th>\n",
       "    </tr>\n",
       "  </thead>\n",
       "  <tbody>\n",
       "    <tr>\n",
       "      <th>0</th>\n",
       "      <td>ตร.นนท์จับหนุ่มแท็กซี่ขโมยเนื้อหมูของร้านตามสั...</td>\n",
       "      <td>ตำรวจ สภ.รัตนาธิเบศร์ จับกุมโชเฟอร์แท็กซี่ตามห...</td>\n",
       "      <td>ตำรวจ สภ.รัตนาธิเบศร์ จับกุมโชเฟอร์แท็กซี่ตามห...</td>\n",
       "      <td>ตร.นนท์จับหนุ่มแท็กซี่ขโมยเนื้อหมูของร้านตามสั...</td>\n",
       "      <td>0</td>\n",
       "      <td>0</td>\n",
       "      <td>0</td>\n",
       "      <td>1</td>\n",
       "      <td>0</td>\n",
       "      <td>0</td>\n",
       "      <td>0</td>\n",
       "      <td>0</td>\n",
       "    </tr>\n",
       "    <tr>\n",
       "      <th>1</th>\n",
       "      <td>ครอบครัว \"ฮ้อแสงชัย\" เชื่อคดี \"เบนซ์ชนฟอร์ด\" จ...</td>\n",
       "      <td>น้องสาวและครอบครัวฮ้อแสงชัย ขอบคุณกระบวนการยุต...</td>\n",
       "      <td>น้องสาวและครอบครัวฮ้อแสงชัย ขอบคุณกระบวนการยุต...</td>\n",
       "      <td>ครอบครัว \"ฮ้อแสงชัย\" เชื่อคดี \"เบนซ์ชนฟอร์ด\" จ...</td>\n",
       "      <td>0</td>\n",
       "      <td>0</td>\n",
       "      <td>0</td>\n",
       "      <td>0</td>\n",
       "      <td>0</td>\n",
       "      <td>0</td>\n",
       "      <td>1</td>\n",
       "      <td>0</td>\n",
       "    </tr>\n",
       "    <tr>\n",
       "      <th>2</th>\n",
       "      <td>ตร.แจง ดารากุเรื่องเป็นเซียนหวย อาจเข้าข่ายผิด...</td>\n",
       "      <td>รองโฆษก ตร.แจงกรณีสื่อแฉดาราสร้างเรื่องหลอกลวง...</td>\n",
       "      <td>รองโฆษก ตร.แจงกรณีสื่อแฉดาราสร้างเรื่องหลอกลวง...</td>\n",
       "      <td>ตร.แจง ดารากุเรื่องเป็นเซียนหวย อาจเข้าข่ายผิด...</td>\n",
       "      <td>0</td>\n",
       "      <td>0</td>\n",
       "      <td>0</td>\n",
       "      <td>0</td>\n",
       "      <td>0</td>\n",
       "      <td>0</td>\n",
       "      <td>0</td>\n",
       "      <td>1</td>\n",
       "    </tr>\n",
       "    <tr>\n",
       "      <th>3</th>\n",
       "      <td>หนุ่มชาวบ้านที่ถูกยิงดับใต้สะพานที่บาเจาะ ตร.ค...</td>\n",
       "      <td>พบศพหนุ่มวัย 22 ปี ถูกยิงด้วยปืน 9 มม. ตาย 1 ศ...</td>\n",
       "      <td>พบศพหนุ่มวัย 22 ปี ถูกยิงด้วยปืน 9 มม. ตาย 1 ศ...</td>\n",
       "      <td>หนุ่มชาวบ้านที่ถูกยิงดับใต้สะพานที่บาเจาะ ตร.ค...</td>\n",
       "      <td>0</td>\n",
       "      <td>1</td>\n",
       "      <td>0</td>\n",
       "      <td>0</td>\n",
       "      <td>1</td>\n",
       "      <td>0</td>\n",
       "      <td>0</td>\n",
       "      <td>0</td>\n",
       "    </tr>\n",
       "    <tr>\n",
       "      <th>4</th>\n",
       "      <td>ผกก.สายไหม มอบสิ่งของผู้สูงอายุ เนื่องในวันเฉล...</td>\n",
       "      <td>ผกก.สน.สายไหม นำทีมข้าราชการตำรวจในสังกัด และเ...</td>\n",
       "      <td>ผกก.สน.สายไหม นำทีมข้าราชการตำรวจในสังกัด และเ...</td>\n",
       "      <td>ผกก.สายไหม มอบสิ่งของผู้สูงอายุ เนื่องในวันเฉล...</td>\n",
       "      <td>0</td>\n",
       "      <td>0</td>\n",
       "      <td>0</td>\n",
       "      <td>0</td>\n",
       "      <td>0</td>\n",
       "      <td>0</td>\n",
       "      <td>0</td>\n",
       "      <td>1</td>\n",
       "    </tr>\n",
       "    <tr>\n",
       "      <th>...</th>\n",
       "      <td>...</td>\n",
       "      <td>...</td>\n",
       "      <td>...</td>\n",
       "      <td>...</td>\n",
       "      <td>...</td>\n",
       "      <td>...</td>\n",
       "      <td>...</td>\n",
       "      <td>...</td>\n",
       "      <td>...</td>\n",
       "      <td>...</td>\n",
       "      <td>...</td>\n",
       "      <td>...</td>\n",
       "    </tr>\n",
       "    <tr>\n",
       "      <th>8562</th>\n",
       "      <td>ตร.แจง ดารากุเรื่องเป็นเซียนหวย อาจเข้าข่ายผิด...</td>\n",
       "      <td>รองโฆษก ตร.แจงกรณีสื่อแฉดาราสร้างเรื่องหลอกลวง...</td>\n",
       "      <td>รองโฆษก ตร.แจงกรณีสื่อแฉดาราสร้างเรื่องหลอกลวง...</td>\n",
       "      <td>ตร.แจง ดารากุเรื่องเป็นเซียนหวย อาจเข้าข่ายผิด...</td>\n",
       "      <td>0</td>\n",
       "      <td>0</td>\n",
       "      <td>0</td>\n",
       "      <td>0</td>\n",
       "      <td>0</td>\n",
       "      <td>0</td>\n",
       "      <td>0</td>\n",
       "      <td>1</td>\n",
       "    </tr>\n",
       "    <tr>\n",
       "      <th>8563</th>\n",
       "      <td>หนุ่มชาวบ้านที่ถูกยิงดับใต้สะพานที่บาเจาะ ตร.ค...</td>\n",
       "      <td>พบศพหนุ่มวัย 22 ปี ถูกยิงด้วยปืน 9 มม. ตาย 1 ศ...</td>\n",
       "      <td>พบศพหนุ่มวัย 22 ปี ถูกยิงด้วยปืน 9 มม. ตาย 1 ศ...</td>\n",
       "      <td>หนุ่มชาวบ้านที่ถูกยิงดับใต้สะพานที่บาเจาะ ตร.ค...</td>\n",
       "      <td>0</td>\n",
       "      <td>1</td>\n",
       "      <td>0</td>\n",
       "      <td>0</td>\n",
       "      <td>1</td>\n",
       "      <td>1</td>\n",
       "      <td>0</td>\n",
       "      <td>0</td>\n",
       "    </tr>\n",
       "    <tr>\n",
       "      <th>8564</th>\n",
       "      <td>ผกก.สายไหม มอบสิ่งของผู้สูงอายุ เนื่องในวันเฉล...</td>\n",
       "      <td>ผกก.สน.สายไหม นำทีมข้าราชการตำรวจในสังกัด และเ...</td>\n",
       "      <td>ผกก.สน.สายไหม นำทีมข้าราชการตำรวจในสังกัด และเ...</td>\n",
       "      <td>ผกก.สายไหม มอบสิ่งของผู้สูงอายุ เนื่องในวันเฉล...</td>\n",
       "      <td>0</td>\n",
       "      <td>0</td>\n",
       "      <td>0</td>\n",
       "      <td>0</td>\n",
       "      <td>0</td>\n",
       "      <td>0</td>\n",
       "      <td>0</td>\n",
       "      <td>1</td>\n",
       "    </tr>\n",
       "    <tr>\n",
       "      <th>8565</th>\n",
       "      <td>ในหลวงพระราชทานตราสัญลักษณ์ประจำหน่วยปฏิบัติกา...</td>\n",
       "      <td>พล.ต.ต.จิรภพ ภูริเดช ผบก.ป. พร้อมข้าราชการตำรว...</td>\n",
       "      <td>พล.ต.ต.จิรภพ ภูริเดช ผบก.ป. พร้อมข้าราชการตำรว...</td>\n",
       "      <td>ในหลวงพระราชทานตราสัญลักษณ์ประจำหน่วยปฏิบัติกา...</td>\n",
       "      <td>0</td>\n",
       "      <td>0</td>\n",
       "      <td>0</td>\n",
       "      <td>0</td>\n",
       "      <td>0</td>\n",
       "      <td>0</td>\n",
       "      <td>0</td>\n",
       "      <td>1</td>\n",
       "    </tr>\n",
       "    <tr>\n",
       "      <th>8566</th>\n",
       "      <td>จี๊ปเหินข้ามเกาะกลางถนน ชนรถพ่วง 22 ล้อ บรรทุก...</td>\n",
       "      <td>อุบัติเหตุบนถนนสาย 304 กบินทร์บุรี-ฉะเชิงเทรา ...</td>\n",
       "      <td>อุบัติเหตุบนถนนสาย 304 กบินทร์บุรี-ฉะเชิงเทรา ...</td>\n",
       "      <td>จี๊ปเหินข้ามเกาะกลางถนน ชนรถพ่วง 22 ล้อ บรรทุก...</td>\n",
       "      <td>0</td>\n",
       "      <td>0</td>\n",
       "      <td>0</td>\n",
       "      <td>0</td>\n",
       "      <td>0</td>\n",
       "      <td>0</td>\n",
       "      <td>1</td>\n",
       "      <td>0</td>\n",
       "    </tr>\n",
       "  </tbody>\n",
       "</table>\n",
       "<p>8567 rows × 12 columns</p>\n",
       "</div>"
      ],
      "text/plain": [
       "                                             News Title  \\\n",
       "0     ตร.นนท์จับหนุ่มแท็กซี่ขโมยเนื้อหมูของร้านตามสั...   \n",
       "1     ครอบครัว \"ฮ้อแสงชัย\" เชื่อคดี \"เบนซ์ชนฟอร์ด\" จ...   \n",
       "2     ตร.แจง ดารากุเรื่องเป็นเซียนหวย อาจเข้าข่ายผิด...   \n",
       "3     หนุ่มชาวบ้านที่ถูกยิงดับใต้สะพานที่บาเจาะ ตร.ค...   \n",
       "4     ผกก.สายไหม มอบสิ่งของผู้สูงอายุ เนื่องในวันเฉล...   \n",
       "...                                                 ...   \n",
       "8562  ตร.แจง ดารากุเรื่องเป็นเซียนหวย อาจเข้าข่ายผิด...   \n",
       "8563  หนุ่มชาวบ้านที่ถูกยิงดับใต้สะพานที่บาเจาะ ตร.ค...   \n",
       "8564  ผกก.สายไหม มอบสิ่งของผู้สูงอายุ เนื่องในวันเฉล...   \n",
       "8565  ในหลวงพระราชทานตราสัญลักษณ์ประจำหน่วยปฏิบัติกา...   \n",
       "8566  จี๊ปเหินข้ามเกาะกลางถนน ชนรถพ่วง 22 ล้อ บรรทุก...   \n",
       "\n",
       "                                             News_Intro  \\\n",
       "0     ตำรวจ สภ.รัตนาธิเบศร์ จับกุมโชเฟอร์แท็กซี่ตามห...   \n",
       "1     น้องสาวและครอบครัวฮ้อแสงชัย ขอบคุณกระบวนการยุต...   \n",
       "2     รองโฆษก ตร.แจงกรณีสื่อแฉดาราสร้างเรื่องหลอกลวง...   \n",
       "3     พบศพหนุ่มวัย 22 ปี ถูกยิงด้วยปืน 9 มม. ตาย 1 ศ...   \n",
       "4     ผกก.สน.สายไหม นำทีมข้าราชการตำรวจในสังกัด และเ...   \n",
       "...                                                 ...   \n",
       "8562  รองโฆษก ตร.แจงกรณีสื่อแฉดาราสร้างเรื่องหลอกลวง...   \n",
       "8563  พบศพหนุ่มวัย 22 ปี ถูกยิงด้วยปืน 9 มม. ตาย 1 ศ...   \n",
       "8564  ผกก.สน.สายไหม นำทีมข้าราชการตำรวจในสังกัด และเ...   \n",
       "8565  พล.ต.ต.จิรภพ ภูริเดช ผบก.ป. พร้อมข้าราชการตำรว...   \n",
       "8566  อุบัติเหตุบนถนนสาย 304 กบินทร์บุรี-ฉะเชิงเทรา ...   \n",
       "\n",
       "                                              News_Desc  \\\n",
       "0     ตำรวจ สภ.รัตนาธิเบศร์ จับกุมโชเฟอร์แท็กซี่ตามห...   \n",
       "1     น้องสาวและครอบครัวฮ้อแสงชัย ขอบคุณกระบวนการยุต...   \n",
       "2     รองโฆษก ตร.แจงกรณีสื่อแฉดาราสร้างเรื่องหลอกลวง...   \n",
       "3     พบศพหนุ่มวัย 22 ปี ถูกยิงด้วยปืน 9 มม. ตาย 1 ศ...   \n",
       "4     ผกก.สน.สายไหม นำทีมข้าราชการตำรวจในสังกัด และเ...   \n",
       "...                                                 ...   \n",
       "8562  รองโฆษก ตร.แจงกรณีสื่อแฉดาราสร้างเรื่องหลอกลวง...   \n",
       "8563  พบศพหนุ่มวัย 22 ปี ถูกยิงด้วยปืน 9 มม. ตาย 1 ศ...   \n",
       "8564  ผกก.สน.สายไหม นำทีมข้าราชการตำรวจในสังกัด และเ...   \n",
       "8565  พล.ต.ต.จิรภพ ภูริเดช ผบก.ป. พร้อมข้าราชการตำรว...   \n",
       "8566  อุบัติเหตุบนถนนสาย 304 กบินทร์บุรี-ฉะเชิงเทรา ...   \n",
       "\n",
       "                                               News_All  Gambling  Murder  \\\n",
       "0     ตร.นนท์จับหนุ่มแท็กซี่ขโมยเนื้อหมูของร้านตามสั...         0       0   \n",
       "1     ครอบครัว \"ฮ้อแสงชัย\" เชื่อคดี \"เบนซ์ชนฟอร์ด\" จ...         0       0   \n",
       "2     ตร.แจง ดารากุเรื่องเป็นเซียนหวย อาจเข้าข่ายผิด...         0       0   \n",
       "3     หนุ่มชาวบ้านที่ถูกยิงดับใต้สะพานที่บาเจาะ ตร.ค...         0       1   \n",
       "4     ผกก.สายไหม มอบสิ่งของผู้สูงอายุ เนื่องในวันเฉล...         0       0   \n",
       "...                                                 ...       ...     ...   \n",
       "8562  ตร.แจง ดารากุเรื่องเป็นเซียนหวย อาจเข้าข่ายผิด...         0       0   \n",
       "8563  หนุ่มชาวบ้านที่ถูกยิงดับใต้สะพานที่บาเจาะ ตร.ค...         0       1   \n",
       "8564  ผกก.สายไหม มอบสิ่งของผู้สูงอายุ เนื่องในวันเฉล...         0       0   \n",
       "8565  ในหลวงพระราชทานตราสัญลักษณ์ประจำหน่วยปฏิบัติกา...         0       0   \n",
       "8566  จี๊ปเหินข้ามเกาะกลางถนน ชนรถพ่วง 22 ล้อ บรรทุก...         0       0   \n",
       "\n",
       "      Sexual Abuse  Theft/Burglary  Drug  Battery/Assault  Accident  Non-Crime  \n",
       "0                0               1     0                0         0          0  \n",
       "1                0               0     0                0         1          0  \n",
       "2                0               0     0                0         0          1  \n",
       "3                0               0     1                0         0          0  \n",
       "4                0               0     0                0         0          1  \n",
       "...            ...             ...   ...              ...       ...        ...  \n",
       "8562             0               0     0                0         0          1  \n",
       "8563             0               0     1                1         0          0  \n",
       "8564             0               0     0                0         0          1  \n",
       "8565             0               0     0                0         0          1  \n",
       "8566             0               0     0                0         1          0  \n",
       "\n",
       "[8567 rows x 12 columns]"
      ]
     },
     "execution_count": 29,
     "metadata": {},
     "output_type": "execute_result"
    }
   ],
   "source": [
    "df_crime = pd.read_csv('../Data/THR_DLR_CLA_V2_Primary_Full_EA.csv')\n",
    "df_crime"
   ]
  },
  {
   "cell_type": "code",
   "execution_count": 34,
   "metadata": {},
   "outputs": [],
   "source": [
    "# 0:1 = title, 1:2 = Intro, 2:3 = Desc, 3:4 = All, 4: Labels <Target>\n",
    "X = df_crime.iloc[:,3:4].values\n",
    "Y = df_crime.iloc[:, 4:].values"
   ]
  },
  {
   "cell_type": "code",
   "execution_count": 35,
   "metadata": {},
   "outputs": [
    {
     "data": {
      "text/plain": [
       "array([0, 0, 0, 0, 1, 0, 0, 0])"
      ]
     },
     "execution_count": 35,
     "metadata": {},
     "output_type": "execute_result"
    }
   ],
   "source": [
    "len(Y[334])\n",
    "Y[334]"
   ]
  },
  {
   "cell_type": "code",
   "execution_count": 36,
   "metadata": {},
   "outputs": [],
   "source": [
    "def clean_msg(msg):\n",
    "    # ลบ text ที่อยู่ในวงเล็บ <> ทั้งหมด\n",
    "    msg = re.sub(r'<.*?>','', msg)\n",
    "    # ลบ hashtag\n",
    "    msg = re.sub(r'#','',msg)\n",
    "    # ลบ เครื่องหมายคำพูด (punctuation)\n",
    "    for c in string.punctuation:\n",
    "        msg = re.sub(r'\\{}'.format(c),'',msg)\n",
    "    # ลบ separator เช่น \\n \\t\n",
    "    msg = ' '.join(msg.split())\n",
    "    return msg"
   ]
  },
  {
   "cell_type": "code",
   "execution_count": 37,
   "metadata": {},
   "outputs": [],
   "source": [
    "clean_text_arr = []\n",
    "for i in range(len(X)):\n",
    "    clean_text = clean_msg(X[i][0])\n",
    "    clean_text_arr.append(clean_text)"
   ]
  },
  {
   "cell_type": "code",
   "execution_count": 38,
   "metadata": {},
   "outputs": [],
   "source": [
    "arr = []\n",
    "for i in range(len(X)):\n",
    "    token = word_tokenize(clean_text_arr[i], keep_whitespace=False)\n",
    "    arr.append(token)"
   ]
  },
  {
   "cell_type": "code",
   "execution_count": 39,
   "metadata": {},
   "outputs": [],
   "source": [
    "from sklearn.feature_extraction.text import CountVectorizer\n",
    "tokens_list_j = [','.join(tkn) for tkn in arr]\n",
    "cvec = CountVectorizer(analyzer=lambda x:x.split(','))\n",
    "c_feat = cvec.fit_transform(tokens_list_j)"
   ]
  },
  {
   "cell_type": "code",
   "execution_count": 40,
   "metadata": {},
   "outputs": [],
   "source": [
    "from sklearn.feature_extraction.text import TfidfVectorizer\n",
    "tvec = TfidfVectorizer(analyzer=lambda x:x.split(','))\n",
    "t_feat = tvec.fit_transform(tokens_list_j)"
   ]
  },
  {
   "cell_type": "code",
   "execution_count": 41,
   "metadata": {},
   "outputs": [],
   "source": [
    "TFIDF_Data = t_feat.toarray()"
   ]
  },
  {
   "cell_type": "code",
   "execution_count": 42,
   "metadata": {},
   "outputs": [],
   "source": [
    "# Labellist_1 = ['Murder','Battery/Assault','Sexual Abuse','Drug','Gambling','Theft/Burglary','Accident','Non-Crime']\n",
    "# Labellist = ['Gambling','Murder','Sexual Abuse','Theft/Burglary','Drug','Battery/Assault','Accident','Non-Crime']\n",
    "# # MUR > BAT > SEX > DRG > GAM > THF > ACC > NON\n",
    "# # 0      1     2     3     4     5     6     7\n",
    "# Label_Priority = [5,1,3,6,4,2,6,7]\n",
    "\n",
    "# def prority_index(cate):\n",
    "#     for i in range(8):\n",
    "#         if cate == Labellist_1[i]:\n",
    "#             return i\n",
    "\n",
    "# Y_Label = []\n",
    "# for i in range(len(Y)):\n",
    "#     print(i)\n",
    "#     Temp_label = []\n",
    "#     for j in range(8):\n",
    "#         if Y[i][j] == 1:\n",
    "#             Temp_label.append(Labellist[j])\n",
    "#     if len(Temp_label) == 1:\n",
    "#         Y_Label.append(Temp_label[0])\n",
    "#     else:\n",
    "#         # ! Sort the Founded labels based on Label_Priority\n",
    "#         Temp_label.sort(key = prority_index)\n",
    "#         print(Temp_label)\n",
    "#         Y_Label.append(Temp_label[0])"
   ]
  },
  {
   "cell_type": "code",
   "execution_count": 43,
   "metadata": {},
   "outputs": [],
   "source": [
    "Y_label_data = np.array(Y)"
   ]
  },
  {
   "cell_type": "code",
   "execution_count": 44,
   "metadata": {},
   "outputs": [
    {
     "data": {
      "text/plain": [
       "array([[0, 0, 0, ..., 0, 0, 0],\n",
       "       [0, 0, 0, ..., 0, 1, 0],\n",
       "       [0, 0, 0, ..., 0, 0, 1],\n",
       "       ...,\n",
       "       [0, 0, 0, ..., 0, 0, 1],\n",
       "       [0, 0, 0, ..., 0, 0, 1],\n",
       "       [0, 0, 0, ..., 0, 1, 0]])"
      ]
     },
     "execution_count": 44,
     "metadata": {},
     "output_type": "execute_result"
    }
   ],
   "source": [
    "Y_label_data"
   ]
  },
  {
   "cell_type": "code",
   "execution_count": 45,
   "metadata": {},
   "outputs": [],
   "source": [
    "from sklearn.model_selection import KFold\n",
    "from sklearn.metrics import classification_report\n",
    "from sklearn.metrics import confusion_matrix\n",
    "from sklearn.model_selection import train_test_split\n",
    "from sklearn import svm\n",
    "from sklearn.naive_bayes import MultinomialNB, BernoulliNB\n",
    "from sklearn.multioutput import ClassifierChain, MultiOutputClassifier\n",
    "from skmultilearn.model_selection import iterative_train_test_split\n",
    "Kfold_classification_report_data = []\n",
    "Y_Ground_Truth_data = []\n",
    "Y_Predicted_data = []\n",
    "np.random.seed(42)\n",
    "X_train, y_train, X_test, y_test = iterative_train_test_split(TFIDF_Data, Y_label_data, test_size=0.2)\n",
    "# Create Model and Train the model\n",
    "# clf_Kfold = svm.LinearSVC(random_state=0).fit(X_train, y_train)\n",
    "clf_Kfold = MultinomialNB()\n",
    "clf_Kfold = MultiOutputClassifier(clf_Kfold)\n",
    "clf_Kfold.fit(X_train,y_train)\n",
    "# Predict the result (Test the model)\n",
    "result = clf_Kfold.predict(X_test)\n",
    "\n",
    "# Collect data from each ML model <10 KFold = 10 models>\n",
    "# Y_Ground_Truth_data.append(y_test)\n",
    "# Y_Predicted_data.append(result)\n",
    "# Kfold_classification_report_data.append(classification_report(y_test, result,output_dict = True))"
   ]
  },
  {
   "cell_type": "code",
   "execution_count": 46,
   "metadata": {},
   "outputs": [
    {
     "data": {
      "text/plain": [
       "array([[0, 0, 0, ..., 0, 0, 0],\n",
       "       [0, 0, 0, ..., 0, 0, 1],\n",
       "       [0, 0, 0, ..., 0, 1, 0],\n",
       "       ...,\n",
       "       [0, 0, 0, ..., 0, 0, 0],\n",
       "       [0, 0, 0, ..., 0, 0, 0],\n",
       "       [1, 0, 0, ..., 1, 0, 0]])"
      ]
     },
     "execution_count": 46,
     "metadata": {},
     "output_type": "execute_result"
    }
   ],
   "source": [
    "y_test"
   ]
  },
  {
   "cell_type": "code",
   "execution_count": 47,
   "metadata": {},
   "outputs": [
    {
     "name": "stdout",
     "output_type": "stream",
     "text": [
      "                 precision    recall  f1-score   support\n",
      "\n",
      "       Gambling       0.00      0.00      0.00        50\n",
      "         Murder       0.94      0.24      0.38       511\n",
      "   Sexual Abuse       0.00      0.00      0.00       135\n",
      " Theft/Burglary       0.00      0.00      0.00       155\n",
      "           Drug       1.00      0.00      0.01       208\n",
      "Battery/Assault       1.00      0.00      0.01       378\n",
      "       Accident       0.00      0.00      0.00       144\n",
      "      Non-Crime       1.00      0.10      0.18       281\n",
      "\n",
      "      micro avg       0.95      0.08      0.15      1862\n",
      "      macro avg       0.49      0.04      0.07      1862\n",
      "   weighted avg       0.72      0.08      0.13      1862\n",
      "    samples avg       0.09      0.08      0.08      1862\n",
      "\n"
     ]
    }
   ],
   "source": [
    "Labellist = ['Gambling','Murder','Sexual Abuse','Theft/Burglary','Drug','Battery/Assault','Accident','Non-Crime']\n",
    "print(classification_report(y_test, result,target_names=Labellist))"
   ]
  },
  {
   "cell_type": "markdown",
   "metadata": {},
   "source": [
    "# ROC"
   ]
  },
  {
   "cell_type": "code",
   "execution_count": 48,
   "metadata": {},
   "outputs": [
    {
     "name": "stdout",
     "output_type": "stream",
     "text": [
      "7\n"
     ]
    },
    {
     "data": {
      "text/plain": [
       "Index(['Murder', 'Sexual Abuse', 'Theft/Burglary', 'Drug', 'Battery/Assault',\n",
       "       'Accident', 'Non-Crime'],\n",
       "      dtype='object')"
      ]
     },
     "execution_count": 48,
     "metadata": {},
     "output_type": "execute_result"
    }
   ],
   "source": [
    "from sklearn.metrics import roc_curve, roc_auc_score\n",
    "\n",
    "# Compute ROC curve and ROC area for each class\n",
    "n_classes = len(df_crime.columns[5:])\n",
    "print(n_classes)\n",
    "fpr = dict()\n",
    "tpr = dict()\n",
    "roc_auc = dict()\n",
    "for i in range(n_classes):\n",
    "    fpr[i], tpr[i], _ = roc_curve(y_test[:, i], result[:, i])\n",
    "    roc_auc[i] = roc_auc_score(y_test[:, i], result[:, i])\n",
    "\n",
    "df_crime.columns[5:]"
   ]
  },
  {
   "cell_type": "code",
   "execution_count": 49,
   "metadata": {},
   "outputs": [
    {
     "data": {
      "image/png": "[encoded data removed]",
      "text/plain": [
       "<Figure size 720x432 with 1 Axes>"
      ]
     },
     "metadata": {
      "needs_background": "light"
     },
     "output_type": "display_data"
    }
   ],
   "source": [
    "from itertools import cycle\n",
    "import matplotlib.pyplot as plt\n",
    "news_label = ['Gambling', 'Murder', 'Sexual Abuse', 'Theft/Burglary', 'Drug', 'Battery/Assault', 'Accident', 'Non-Crime']\n",
    "colors = cycle(['blue', 'red', 'green', 'orange', 'black', 'yellow', 'purple', 'pink', 'grey'])\n",
    "plt.figure(figsize=(10,6))\n",
    "for i, color in zip(range(n_classes), colors):\n",
    "    plt.plot(fpr[i], tpr[i], color=color, linewidth=1.5, label=f'{news_label[i]} (area = {roc_auc[i]:.2f})')\n",
    "#     plt.plot(fpr[i], tpr[i], color=color, linewidth=1.5, label=f'ROC curve of class {news_label[i]} (area = {roc_auc[i]:.2f})')\n",
    "plt.plot([0, 1], [0, 1], 'k--', linewidth=1.5)\n",
    "plt.xlim([0.0, 1.0])\n",
    "plt.ylim([0.0, 1.0])\n",
    "plt.xlabel('False Positive Rate')\n",
    "plt.ylabel('True Positive Rate')\n",
    "plt.title('Receiver operating characteristic for multi-class data')\n",
    "plt.legend(loc=\"lower right\")\n",
    "plt.show()"
   ]
  },
  {
   "cell_type": "code",
   "execution_count": 50,
   "metadata": {},
   "outputs": [],
   "source": [
    "from sklearn.metrics import multilabel_confusion_matrix\n",
    "Confusion_Matrix_Result = multilabel_confusion_matrix(y_test,result)"
   ]
  },
  {
   "cell_type": "code",
   "execution_count": 51,
   "metadata": {},
   "outputs": [
    {
     "data": {
      "image/png": "[encoded data removed]",
      "text/plain": [
       "<Figure size 432x288 with 2 Axes>"
      ]
     },
     "metadata": {
      "needs_background": "light"
     },
     "output_type": "display_data"
    }
   ],
   "source": [
    "import seaborn as sns\n",
    "\n",
    "ax = sns.heatmap(Confusion_Matrix_Result[0], annot=True, cmap='Blues',fmt='g')\n",
    "\n",
    "ax.set_title(Labellist[0]);\n",
    "ax.set_xlabel('\\nPredicted Values')\n",
    "ax.set_ylabel('Actual Values ');\n",
    "\n",
    "## Ticket labels - List must be in alphabetical order\n",
    "ax.xaxis.set_ticklabels(['False','True'])\n",
    "ax.yaxis.set_ticklabels(['False','True'])\n",
    "\n",
    "## Display the visualization of the Confusion Matrix.\n",
    "plt.show()"
   ]
  },
  {
   "cell_type": "code",
   "execution_count": 52,
   "metadata": {},
   "outputs": [
    {
     "data": {
      "image/png": "[encoded data removed]",
      "text/plain": [
       "<Figure size 432x288 with 2 Axes>"
      ]
     },
     "metadata": {
      "needs_background": "light"
     },
     "output_type": "display_data"
    }
   ],
   "source": [
    "ax = sns.heatmap(Confusion_Matrix_Result[1], annot=True, cmap='Blues',fmt='g')\n",
    "\n",
    "ax.set_title(Labellist[1]);\n",
    "ax.set_xlabel('\\nPredicted Values')\n",
    "ax.set_ylabel('Actual Values ');\n",
    "\n",
    "## Ticket labels - List must be in alphabetical order\n",
    "ax.xaxis.set_ticklabels(['False','True'])\n",
    "ax.yaxis.set_ticklabels(['False','True'])\n",
    "\n",
    "## Display the visualization of the Confusion Matrix.\n",
    "plt.show()"
   ]
  },
  {
   "cell_type": "code",
   "execution_count": 53,
   "metadata": {},
   "outputs": [
    {
     "data": {
      "image/png": "[encoded data removed]",
      "text/plain": [
       "<Figure size 432x288 with 2 Axes>"
      ]
     },
     "metadata": {
      "needs_background": "light"
     },
     "output_type": "display_data"
    }
   ],
   "source": [
    "ax = sns.heatmap(Confusion_Matrix_Result[2], annot=True, cmap='Blues',fmt='g')\n",
    "\n",
    "ax.set_title(Labellist[2]);\n",
    "ax.set_xlabel('\\nPredicted Values')\n",
    "ax.set_ylabel('Actual Values ');\n",
    "\n",
    "## Ticket labels - List must be in alphabetical order\n",
    "ax.xaxis.set_ticklabels(['False','True'])\n",
    "ax.yaxis.set_ticklabels(['False','True'])\n",
    "\n",
    "## Display the visualization of the Confusion Matrix.\n",
    "plt.show()"
   ]
  },
  {
   "cell_type": "code",
   "execution_count": 54,
   "metadata": {},
   "outputs": [
    {
     "data": {
      "image/png": "[encoded data removed]",
      "text/plain": [
       "<Figure size 432x288 with 2 Axes>"
      ]
     },
     "metadata": {
      "needs_background": "light"
     },
     "output_type": "display_data"
    }
   ],
   "source": [
    "ax = sns.heatmap(Confusion_Matrix_Result[3], annot=True, cmap='Blues',fmt='g')\n",
    "\n",
    "ax.set_title(news_label[3]);\n",
    "ax.set_xlabel('\\nPredicted Values')\n",
    "ax.set_ylabel('Actual Values ');\n",
    "\n",
    "## Ticket labels - List must be in alphabetical order\n",
    "ax.xaxis.set_ticklabels(['False','True'])\n",
    "ax.yaxis.set_ticklabels(['False','True'])\n",
    "\n",
    "## Display the visualization of the Confusion Matrix.\n",
    "plt.show()"
   ]
  },
  {
   "cell_type": "code",
   "execution_count": 55,
   "metadata": {},
   "outputs": [
    {
     "data": {
      "image/png": "[encoded data removed]",
      "text/plain": [
       "<Figure size 432x288 with 2 Axes>"
      ]
     },
     "metadata": {
      "needs_background": "light"
     },
     "output_type": "display_data"
    }
   ],
   "source": [
    "ax = sns.heatmap(Confusion_Matrix_Result[4], annot=True, cmap='Blues',fmt='g')\n",
    "\n",
    "ax.set_title(Labellist[4]);\n",
    "ax.set_xlabel('\\nPredicted Values')\n",
    "ax.set_ylabel('Actual Values ');\n",
    "\n",
    "## Ticket labels - List must be in alphabetical order\n",
    "ax.xaxis.set_ticklabels(['False','True'])\n",
    "ax.yaxis.set_ticklabels(['False','True'])\n",
    "\n",
    "## Display the visualization of the Confusion Matrix.\n",
    "plt.show()"
   ]
  },
  {
   "cell_type": "code",
   "execution_count": 56,
   "metadata": {},
   "outputs": [
    {
     "data": {
      "image/png": "[encoded data removed]",
      "text/plain": [
       "<Figure size 432x288 with 2 Axes>"
      ]
     },
     "metadata": {
      "needs_background": "light"
     },
     "output_type": "display_data"
    }
   ],
   "source": [
    "ax = sns.heatmap(Confusion_Matrix_Result[5], annot=True, cmap='Blues',fmt='g')\n",
    "\n",
    "ax.set_title(Labellist[5]);\n",
    "ax.set_xlabel('\\nPredicted Values')\n",
    "ax.set_ylabel('Actual Values ');\n",
    "\n",
    "## Ticket labels - List must be in alphabetical order\n",
    "ax.xaxis.set_ticklabels(['False','True'])\n",
    "ax.yaxis.set_ticklabels(['False','True'])\n",
    "\n",
    "## Display the visualization of the Confusion Matrix.\n",
    "plt.show()"
   ]
  },
  {
   "cell_type": "code",
   "execution_count": 57,
   "metadata": {},
   "outputs": [
    {
     "data": {
      "image/png": "[encoded data removed]",
      "text/plain": [
       "<Figure size 432x288 with 2 Axes>"
      ]
     },
     "metadata": {
      "needs_background": "light"
     },
     "output_type": "display_data"
    }
   ],
   "source": [
    "ax = sns.heatmap(Confusion_Matrix_Result[6], annot=True, cmap='Blues',fmt='g')\n",
    "\n",
    "ax.set_title(Labellist[6]);\n",
    "ax.set_xlabel('\\nPredicted Values')\n",
    "ax.set_ylabel('Actual Values ');\n",
    "\n",
    "## Ticket labels - List must be in alphabetical order\n",
    "ax.xaxis.set_ticklabels(['False','True'])\n",
    "ax.yaxis.set_ticklabels(['False','True'])\n",
    "\n",
    "## Display the visualization of the Confusion Matrix.\n",
    "plt.show()"
   ]
  },
  {
   "cell_type": "code",
   "execution_count": 58,
   "metadata": {},
   "outputs": [
    {
     "data": {
      "image/png": "[encoded data removed]",
      "text/plain": [
       "<Figure size 432x288 with 2 Axes>"
      ]
     },
     "metadata": {
      "needs_background": "light"
     },
     "output_type": "display_data"
    }
   ],
   "source": [
    "ax = sns.heatmap(Confusion_Matrix_Result[7], annot=True, cmap='Blues',fmt='g')\n",
    "\n",
    "ax.set_title(Labellist[7]);\n",
    "ax.set_xlabel('\\nPredicted Values')\n",
    "ax.set_ylabel('Actual Values ');\n",
    "\n",
    "## Ticket labels - List must be in alphabetical order\n",
    "ax.xaxis.set_ticklabels(['False','True'])\n",
    "ax.yaxis.set_ticklabels(['False','True'])\n",
    "\n",
    "## Display the visualization of the Confusion Matrix.\n",
    "plt.show()"
   ]
  }
 ],
 "metadata": {
  "interpreter": {
   "hash": "9324bf582e228a85b25eb1e944839b01655f400de8c5b05b1be93376bb92df2a"
  },
  "kernelspec": {
   "display_name": "Python 3.8.11 64-bit ('base': conda)",
   "language": "python",
   "name": "python3"
  },
  "language_info": {
   "codemirror_mode": {
    "name": "ipython",
    "version": 3
   },
   "file_extension": ".py",
   "mimetype": "text/x-python",
   "name": "python",
   "nbconvert_exporter": "python",
   "pygments_lexer": "ipython3",
   "version": "3.8.11"
  },
  "orig_nbformat": 4
 },
 "nbformat": 4,
 "nbformat_minor": 2
}
