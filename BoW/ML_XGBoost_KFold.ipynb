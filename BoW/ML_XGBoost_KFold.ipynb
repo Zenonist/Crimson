{
 "cells": [
  {
   "cell_type": "code",
   "execution_count": 71,
   "metadata": {},
   "outputs": [],
   "source": [
    "import pandas as pd\n",
    "import numpy as np\n",
    "from pythainlp import word_tokenize\n",
    "import warnings\n",
    "import re\n",
    "import string\n",
    "warnings.filterwarnings('ignore')"
   ]
  },
  {
   "cell_type": "code",
   "execution_count": 72,
   "metadata": {},
   "outputs": [
    {
     "data": {
      "text/html": [
       "<div>\n",
       "<style scoped>\n",
       "    .dataframe tbody tr th:only-of-type {\n",
       "        vertical-align: middle;\n",
       "    }\n",
       "\n",
       "    .dataframe tbody tr th {\n",
       "        vertical-align: top;\n",
       "    }\n",
       "\n",
       "    .dataframe thead th {\n",
       "        text-align: right;\n",
       "    }\n",
       "</style>\n",
       "<table border=\"1\" class=\"dataframe\">\n",
       "  <thead>\n",
       "    <tr style=\"text-align: right;\">\n",
       "      <th></th>\n",
       "      <th>News Title</th>\n",
       "      <th>News_Intro</th>\n",
       "      <th>News_Desc</th>\n",
       "      <th>News_All</th>\n",
       "      <th>Gambling</th>\n",
       "      <th>Murder</th>\n",
       "      <th>Sexual Abuse</th>\n",
       "      <th>Theft/Burglary</th>\n",
       "      <th>Drug</th>\n",
       "      <th>Battery/Assault</th>\n",
       "      <th>Accident</th>\n",
       "      <th>Non-Crime</th>\n",
       "    </tr>\n",
       "  </thead>\n",
       "  <tbody>\n",
       "    <tr>\n",
       "      <th>0</th>\n",
       "      <td>ตร.นนท์จับหนุ่มแท็กซี่ขโมยเนื้อหมูของร้านตามสั...</td>\n",
       "      <td>ตำรวจ สภ.รัตนาธิเบศร์ จับกุมโชเฟอร์แท็กซี่ตามห...</td>\n",
       "      <td>ตำรวจ สภ.รัตนาธิเบศร์ จับกุมโชเฟอร์แท็กซี่ตามห...</td>\n",
       "      <td>ตร.นนท์จับหนุ่มแท็กซี่ขโมยเนื้อหมูของร้านตามสั...</td>\n",
       "      <td>0</td>\n",
       "      <td>0</td>\n",
       "      <td>0</td>\n",
       "      <td>1</td>\n",
       "      <td>0</td>\n",
       "      <td>0</td>\n",
       "      <td>0</td>\n",
       "      <td>0</td>\n",
       "    </tr>\n",
       "    <tr>\n",
       "      <th>1</th>\n",
       "      <td>ครอบครัว \"ฮ้อแสงชัย\" เชื่อคดี \"เบนซ์ชนฟอร์ด\" จ...</td>\n",
       "      <td>น้องสาวและครอบครัวฮ้อแสงชัย ขอบคุณกระบวนการยุต...</td>\n",
       "      <td>น้องสาวและครอบครัวฮ้อแสงชัย ขอบคุณกระบวนการยุต...</td>\n",
       "      <td>ครอบครัว \"ฮ้อแสงชัย\" เชื่อคดี \"เบนซ์ชนฟอร์ด\" จ...</td>\n",
       "      <td>0</td>\n",
       "      <td>0</td>\n",
       "      <td>0</td>\n",
       "      <td>0</td>\n",
       "      <td>0</td>\n",
       "      <td>0</td>\n",
       "      <td>1</td>\n",
       "      <td>0</td>\n",
       "    </tr>\n",
       "    <tr>\n",
       "      <th>2</th>\n",
       "      <td>ตร.แจง ดารากุเรื่องเป็นเซียนหวย อาจเข้าข่ายผิด...</td>\n",
       "      <td>รองโฆษก ตร.แจงกรณีสื่อแฉดาราสร้างเรื่องหลอกลวง...</td>\n",
       "      <td>รองโฆษก ตร.แจงกรณีสื่อแฉดาราสร้างเรื่องหลอกลวง...</td>\n",
       "      <td>ตร.แจง ดารากุเรื่องเป็นเซียนหวย อาจเข้าข่ายผิด...</td>\n",
       "      <td>0</td>\n",
       "      <td>0</td>\n",
       "      <td>0</td>\n",
       "      <td>0</td>\n",
       "      <td>0</td>\n",
       "      <td>0</td>\n",
       "      <td>0</td>\n",
       "      <td>1</td>\n",
       "    </tr>\n",
       "    <tr>\n",
       "      <th>3</th>\n",
       "      <td>หนุ่มชาวบ้านที่ถูกยิงดับใต้สะพานที่บาเจาะ ตร.ค...</td>\n",
       "      <td>พบศพหนุ่มวัย 22 ปี ถูกยิงด้วยปืน 9 มม. ตาย 1 ศ...</td>\n",
       "      <td>พบศพหนุ่มวัย 22 ปี ถูกยิงด้วยปืน 9 มม. ตาย 1 ศ...</td>\n",
       "      <td>หนุ่มชาวบ้านที่ถูกยิงดับใต้สะพานที่บาเจาะ ตร.ค...</td>\n",
       "      <td>0</td>\n",
       "      <td>1</td>\n",
       "      <td>0</td>\n",
       "      <td>0</td>\n",
       "      <td>1</td>\n",
       "      <td>0</td>\n",
       "      <td>0</td>\n",
       "      <td>0</td>\n",
       "    </tr>\n",
       "    <tr>\n",
       "      <th>4</th>\n",
       "      <td>ผกก.สายไหม มอบสิ่งของผู้สูงอายุ เนื่องในวันเฉล...</td>\n",
       "      <td>ผกก.สน.สายไหม นำทีมข้าราชการตำรวจในสังกัด และเ...</td>\n",
       "      <td>ผกก.สน.สายไหม นำทีมข้าราชการตำรวจในสังกัด และเ...</td>\n",
       "      <td>ผกก.สายไหม มอบสิ่งของผู้สูงอายุ เนื่องในวันเฉล...</td>\n",
       "      <td>0</td>\n",
       "      <td>0</td>\n",
       "      <td>0</td>\n",
       "      <td>0</td>\n",
       "      <td>0</td>\n",
       "      <td>0</td>\n",
       "      <td>0</td>\n",
       "      <td>1</td>\n",
       "    </tr>\n",
       "    <tr>\n",
       "      <th>...</th>\n",
       "      <td>...</td>\n",
       "      <td>...</td>\n",
       "      <td>...</td>\n",
       "      <td>...</td>\n",
       "      <td>...</td>\n",
       "      <td>...</td>\n",
       "      <td>...</td>\n",
       "      <td>...</td>\n",
       "      <td>...</td>\n",
       "      <td>...</td>\n",
       "      <td>...</td>\n",
       "      <td>...</td>\n",
       "    </tr>\n",
       "    <tr>\n",
       "      <th>8562</th>\n",
       "      <td>ตร.แจง ดารากุเรื่องเป็นเซียนหวย อาจเข้าข่ายผิด...</td>\n",
       "      <td>รองโฆษก ตร.แจงกรณีสื่อแฉดาราสร้างเรื่องหลอกลวง...</td>\n",
       "      <td>รองโฆษก ตร.แจงกรณีสื่อแฉดาราสร้างเรื่องหลอกลวง...</td>\n",
       "      <td>ตร.แจง ดารากุเรื่องเป็นเซียนหวย อาจเข้าข่ายผิด...</td>\n",
       "      <td>0</td>\n",
       "      <td>0</td>\n",
       "      <td>0</td>\n",
       "      <td>0</td>\n",
       "      <td>0</td>\n",
       "      <td>0</td>\n",
       "      <td>0</td>\n",
       "      <td>1</td>\n",
       "    </tr>\n",
       "    <tr>\n",
       "      <th>8563</th>\n",
       "      <td>หนุ่มชาวบ้านที่ถูกยิงดับใต้สะพานที่บาเจาะ ตร.ค...</td>\n",
       "      <td>พบศพหนุ่มวัย 22 ปี ถูกยิงด้วยปืน 9 มม. ตาย 1 ศ...</td>\n",
       "      <td>พบศพหนุ่มวัย 22 ปี ถูกยิงด้วยปืน 9 มม. ตาย 1 ศ...</td>\n",
       "      <td>หนุ่มชาวบ้านที่ถูกยิงดับใต้สะพานที่บาเจาะ ตร.ค...</td>\n",
       "      <td>0</td>\n",
       "      <td>1</td>\n",
       "      <td>0</td>\n",
       "      <td>0</td>\n",
       "      <td>1</td>\n",
       "      <td>1</td>\n",
       "      <td>0</td>\n",
       "      <td>0</td>\n",
       "    </tr>\n",
       "    <tr>\n",
       "      <th>8564</th>\n",
       "      <td>ผกก.สายไหม มอบสิ่งของผู้สูงอายุ เนื่องในวันเฉล...</td>\n",
       "      <td>ผกก.สน.สายไหม นำทีมข้าราชการตำรวจในสังกัด และเ...</td>\n",
       "      <td>ผกก.สน.สายไหม นำทีมข้าราชการตำรวจในสังกัด และเ...</td>\n",
       "      <td>ผกก.สายไหม มอบสิ่งของผู้สูงอายุ เนื่องในวันเฉล...</td>\n",
       "      <td>0</td>\n",
       "      <td>0</td>\n",
       "      <td>0</td>\n",
       "      <td>0</td>\n",
       "      <td>0</td>\n",
       "      <td>0</td>\n",
       "      <td>0</td>\n",
       "      <td>1</td>\n",
       "    </tr>\n",
       "    <tr>\n",
       "      <th>8565</th>\n",
       "      <td>ในหลวงพระราชทานตราสัญลักษณ์ประจำหน่วยปฏิบัติกา...</td>\n",
       "      <td>พล.ต.ต.จิรภพ ภูริเดช ผบก.ป. พร้อมข้าราชการตำรว...</td>\n",
       "      <td>พล.ต.ต.จิรภพ ภูริเดช ผบก.ป. พร้อมข้าราชการตำรว...</td>\n",
       "      <td>ในหลวงพระราชทานตราสัญลักษณ์ประจำหน่วยปฏิบัติกา...</td>\n",
       "      <td>0</td>\n",
       "      <td>0</td>\n",
       "      <td>0</td>\n",
       "      <td>0</td>\n",
       "      <td>0</td>\n",
       "      <td>0</td>\n",
       "      <td>0</td>\n",
       "      <td>1</td>\n",
       "    </tr>\n",
       "    <tr>\n",
       "      <th>8566</th>\n",
       "      <td>จี๊ปเหินข้ามเกาะกลางถนน ชนรถพ่วง 22 ล้อ บรรทุก...</td>\n",
       "      <td>อุบัติเหตุบนถนนสาย 304 กบินทร์บุรี-ฉะเชิงเทรา ...</td>\n",
       "      <td>อุบัติเหตุบนถนนสาย 304 กบินทร์บุรี-ฉะเชิงเทรา ...</td>\n",
       "      <td>จี๊ปเหินข้ามเกาะกลางถนน ชนรถพ่วง 22 ล้อ บรรทุก...</td>\n",
       "      <td>0</td>\n",
       "      <td>0</td>\n",
       "      <td>0</td>\n",
       "      <td>0</td>\n",
       "      <td>0</td>\n",
       "      <td>0</td>\n",
       "      <td>1</td>\n",
       "      <td>0</td>\n",
       "    </tr>\n",
       "  </tbody>\n",
       "</table>\n",
       "<p>8567 rows × 12 columns</p>\n",
       "</div>"
      ],
      "text/plain": [
       "                                             News Title  \\\n",
       "0     ตร.นนท์จับหนุ่มแท็กซี่ขโมยเนื้อหมูของร้านตามสั...   \n",
       "1     ครอบครัว \"ฮ้อแสงชัย\" เชื่อคดี \"เบนซ์ชนฟอร์ด\" จ...   \n",
       "2     ตร.แจง ดารากุเรื่องเป็นเซียนหวย อาจเข้าข่ายผิด...   \n",
       "3     หนุ่มชาวบ้านที่ถูกยิงดับใต้สะพานที่บาเจาะ ตร.ค...   \n",
       "4     ผกก.สายไหม มอบสิ่งของผู้สูงอายุ เนื่องในวันเฉล...   \n",
       "...                                                 ...   \n",
       "8562  ตร.แจง ดารากุเรื่องเป็นเซียนหวย อาจเข้าข่ายผิด...   \n",
       "8563  หนุ่มชาวบ้านที่ถูกยิงดับใต้สะพานที่บาเจาะ ตร.ค...   \n",
       "8564  ผกก.สายไหม มอบสิ่งของผู้สูงอายุ เนื่องในวันเฉล...   \n",
       "8565  ในหลวงพระราชทานตราสัญลักษณ์ประจำหน่วยปฏิบัติกา...   \n",
       "8566  จี๊ปเหินข้ามเกาะกลางถนน ชนรถพ่วง 22 ล้อ บรรทุก...   \n",
       "\n",
       "                                             News_Intro  \\\n",
       "0     ตำรวจ สภ.รัตนาธิเบศร์ จับกุมโชเฟอร์แท็กซี่ตามห...   \n",
       "1     น้องสาวและครอบครัวฮ้อแสงชัย ขอบคุณกระบวนการยุต...   \n",
       "2     รองโฆษก ตร.แจงกรณีสื่อแฉดาราสร้างเรื่องหลอกลวง...   \n",
       "3     พบศพหนุ่มวัย 22 ปี ถูกยิงด้วยปืน 9 มม. ตาย 1 ศ...   \n",
       "4     ผกก.สน.สายไหม นำทีมข้าราชการตำรวจในสังกัด และเ...   \n",
       "...                                                 ...   \n",
       "8562  รองโฆษก ตร.แจงกรณีสื่อแฉดาราสร้างเรื่องหลอกลวง...   \n",
       "8563  พบศพหนุ่มวัย 22 ปี ถูกยิงด้วยปืน 9 มม. ตาย 1 ศ...   \n",
       "8564  ผกก.สน.สายไหม นำทีมข้าราชการตำรวจในสังกัด และเ...   \n",
       "8565  พล.ต.ต.จิรภพ ภูริเดช ผบก.ป. พร้อมข้าราชการตำรว...   \n",
       "8566  อุบัติเหตุบนถนนสาย 304 กบินทร์บุรี-ฉะเชิงเทรา ...   \n",
       "\n",
       "                                              News_Desc  \\\n",
       "0     ตำรวจ สภ.รัตนาธิเบศร์ จับกุมโชเฟอร์แท็กซี่ตามห...   \n",
       "1     น้องสาวและครอบครัวฮ้อแสงชัย ขอบคุณกระบวนการยุต...   \n",
       "2     รองโฆษก ตร.แจงกรณีสื่อแฉดาราสร้างเรื่องหลอกลวง...   \n",
       "3     พบศพหนุ่มวัย 22 ปี ถูกยิงด้วยปืน 9 มม. ตาย 1 ศ...   \n",
       "4     ผกก.สน.สายไหม นำทีมข้าราชการตำรวจในสังกัด และเ...   \n",
       "...                                                 ...   \n",
       "8562  รองโฆษก ตร.แจงกรณีสื่อแฉดาราสร้างเรื่องหลอกลวง...   \n",
       "8563  พบศพหนุ่มวัย 22 ปี ถูกยิงด้วยปืน 9 มม. ตาย 1 ศ...   \n",
       "8564  ผกก.สน.สายไหม นำทีมข้าราชการตำรวจในสังกัด และเ...   \n",
       "8565  พล.ต.ต.จิรภพ ภูริเดช ผบก.ป. พร้อมข้าราชการตำรว...   \n",
       "8566  อุบัติเหตุบนถนนสาย 304 กบินทร์บุรี-ฉะเชิงเทรา ...   \n",
       "\n",
       "                                               News_All  Gambling  Murder  \\\n",
       "0     ตร.นนท์จับหนุ่มแท็กซี่ขโมยเนื้อหมูของร้านตามสั...         0       0   \n",
       "1     ครอบครัว \"ฮ้อแสงชัย\" เชื่อคดี \"เบนซ์ชนฟอร์ด\" จ...         0       0   \n",
       "2     ตร.แจง ดารากุเรื่องเป็นเซียนหวย อาจเข้าข่ายผิด...         0       0   \n",
       "3     หนุ่มชาวบ้านที่ถูกยิงดับใต้สะพานที่บาเจาะ ตร.ค...         0       1   \n",
       "4     ผกก.สายไหม มอบสิ่งของผู้สูงอายุ เนื่องในวันเฉล...         0       0   \n",
       "...                                                 ...       ...     ...   \n",
       "8562  ตร.แจง ดารากุเรื่องเป็นเซียนหวย อาจเข้าข่ายผิด...         0       0   \n",
       "8563  หนุ่มชาวบ้านที่ถูกยิงดับใต้สะพานที่บาเจาะ ตร.ค...         0       1   \n",
       "8564  ผกก.สายไหม มอบสิ่งของผู้สูงอายุ เนื่องในวันเฉล...         0       0   \n",
       "8565  ในหลวงพระราชทานตราสัญลักษณ์ประจำหน่วยปฏิบัติกา...         0       0   \n",
       "8566  จี๊ปเหินข้ามเกาะกลางถนน ชนรถพ่วง 22 ล้อ บรรทุก...         0       0   \n",
       "\n",
       "      Sexual Abuse  Theft/Burglary  Drug  Battery/Assault  Accident  Non-Crime  \n",
       "0                0               1     0                0         0          0  \n",
       "1                0               0     0                0         1          0  \n",
       "2                0               0     0                0         0          1  \n",
       "3                0               0     1                0         0          0  \n",
       "4                0               0     0                0         0          1  \n",
       "...            ...             ...   ...              ...       ...        ...  \n",
       "8562             0               0     0                0         0          1  \n",
       "8563             0               0     1                1         0          0  \n",
       "8564             0               0     0                0         0          1  \n",
       "8565             0               0     0                0         0          1  \n",
       "8566             0               0     0                0         1          0  \n",
       "\n",
       "[8567 rows x 12 columns]"
      ]
     },
     "execution_count": 72,
     "metadata": {},
     "output_type": "execute_result"
    }
   ],
   "source": [
    "df_crime = pd.read_csv('../Data/THR_DLR_CLA_V2_Primary_Full_EA.csv')\n",
    "df_crime"
   ]
  },
  {
   "cell_type": "code",
   "execution_count": 73,
   "metadata": {},
   "outputs": [],
   "source": [
    "# 0:1 = title, 1:2 = ../Data/THR_DLR_CLA_V2_Primary.csvIntro, 2:3 = Desc, 3:4 = All, 4: Labels <Target>\n",
    "X = df_crime.iloc[:,3:4].values\n",
    "Y = df_crime.iloc[:, 4:].values"
   ]
  },
  {
   "cell_type": "code",
   "execution_count": 74,
   "metadata": {},
   "outputs": [
    {
     "data": {
      "text/plain": [
       "array([0, 0, 0, 0, 1, 0, 0, 0], dtype=int64)"
      ]
     },
     "execution_count": 74,
     "metadata": {},
     "output_type": "execute_result"
    }
   ],
   "source": [
    "len(Y[334])\n",
    "Y[334]"
   ]
  },
  {
   "cell_type": "code",
   "execution_count": 75,
   "metadata": {},
   "outputs": [],
   "source": [
    "def clean_msg(msg):\n",
    "    # ลบ text ที่อยู่ในวงเล็บ <> ทั้งหมด\n",
    "    msg = re.sub(r'<.*?>','', msg)\n",
    "    # ลบ hashtag\n",
    "    msg = re.sub(r'#','',msg)\n",
    "    # ลบ เครื่องหมายคำพูด (punctuation)\n",
    "    for c in string.punctuation:\n",
    "        msg = re.sub(r'\\{}'.format(c),'',msg)\n",
    "    # ลบ separator เช่น \\n \\t\n",
    "    msg = ' '.join(msg.split())\n",
    "    return msg"
   ]
  },
  {
   "cell_type": "code",
   "execution_count": 76,
   "metadata": {},
   "outputs": [],
   "source": [
    "clean_text_arr = []\n",
    "for i in range(len(X)):\n",
    "    clean_text = clean_msg(X[i][0])\n",
    "    clean_text_arr.append(clean_text)"
   ]
  },
  {
   "cell_type": "code",
   "execution_count": 77,
   "metadata": {},
   "outputs": [],
   "source": [
    "arr = []\n",
    "for i in range(len(X)):\n",
    "    token = word_tokenize(clean_text_arr[i], keep_whitespace=False)\n",
    "    arr.append(token)"
   ]
  },
  {
   "cell_type": "code",
   "execution_count": 78,
   "metadata": {},
   "outputs": [],
   "source": [
    "from sklearn.feature_extraction.text import CountVectorizer\n",
    "tokens_list_j = [','.join(tkn) for tkn in arr]\n",
    "cvec = CountVectorizer(analyzer=lambda x:x.split(','))\n",
    "c_feat = cvec.fit_transform(tokens_list_j)"
   ]
  },
  {
   "cell_type": "code",
   "execution_count": 79,
   "metadata": {},
   "outputs": [],
   "source": [
    "from sklearn.feature_extraction.text import TfidfVectorizer\n",
    "tvec = TfidfVectorizer(analyzer=lambda x:x.split(','))\n",
    "t_feat = tvec.fit_transform(tokens_list_j)"
   ]
  },
  {
   "cell_type": "code",
   "execution_count": 80,
   "metadata": {},
   "outputs": [],
   "source": [
    "TFIDF_Data = t_feat.toarray()"
   ]
  },
  {
   "cell_type": "code",
   "execution_count": 81,
   "metadata": {},
   "outputs": [
    {
     "data": {
      "text/plain": [
       "40276"
      ]
     },
     "execution_count": 81,
     "metadata": {},
     "output_type": "execute_result"
    }
   ],
   "source": [
    "len(TFIDF_Data[100])"
   ]
  },
  {
   "cell_type": "code",
   "execution_count": 82,
   "metadata": {},
   "outputs": [
    {
     "data": {
      "text/plain": [
       "array(['ภูธรภาค 1 จับหนุ่มขับฟอร์จูนเนอร์ ลอบขนยาบ้ายึดได้ 4.5 ล้านเม็ดจากชายแดน ตำรวจภูธรภาค 1 จับกุมหนุ่มเมืองชลขับฟอร์จูนเนอร์ลอบขนยาบ้า 4.5 ล้านเม็ด รวม 11 กระสอบพร้อมคุมไปค้นบ้านย่านบางบ่อเจอยาอีก 1 พันเม็ด รับสารภาพขนยามาจากชายแดนภาคเหนือ เข้าอีสาน ก่อนรอส่งลงใต้เมื่อเวลา 10.00 น. วันที่ 6 ต.ค.63 ที่ลานอเนกประสงค์ บชภ.1 พล.ต.อ.มนู เมฆหมอก รอง ผบ.ตร. พล.ต.ท.อำพล บัวรับพร ผบช.ภ.1 พล.ต.ต.สุภธีร์ บุญครอง รอง ผบช.ภ.1 ร่วมกันแถลงข่าวผลการจับกุมตัวนายสาธิต ดือขุนทด หรือติ๋ว อายุ 31 ปี ชาว จ.ชลบุรี พร้อมของกลางยาบ้า 4,500,000 เ... ตำรวจภูธรภาค 1 จับกุมหนุ่มเมืองชลขับฟอร์จูนเนอร์ลอบขนยาบ้า 4.5 ล้านเม็ด รวม 11 กระสอบพร้อมคุมไปค้นบ้านย่านบางบ่อเจอยาอีก 1 พันเม็ด รับสารภาพขนยามาจากชายแดนภาคเหนือ เข้าอีสาน ก่อนรอส่งลงใต้เมื่อเวลา 10.00 น. วันที่ 6 ต.ค.63 ที่ลานอเนกประสงค์ บชภ.1 พล.ต.อ.มนู เมฆหมอก รอง ผบ.ตร. พล.ต.ท.อำพล บัวรับพร ผบช.ภ.1 พล.ต.ต.สุภธีร์ บุญครอง รอง ผบช.ภ.1 ร่วมกันแถลงข่าวผลการจับกุมตัวนายสาธิต ดือขุนทด หรือติ๋ว อายุ 31 ปี ชาว จ.ชลบุรี พร้อมของกลางยาบ้า 4,500,000 เม็ด ยาอี 1,000 เม็ดและรถโตโยต้า ฟอร์จูนเนอร์ สีดำ หมายเลขทะเบียน สน 5058 กทม.ข่าวแนะนำ             พล.ต.อ.มนู กล่าวว่า ทางชุดปราบปรามยาเสพติด ศอ.ปส.ภ.1 ร่วมกับทีมชุดสืบสวน จ.สระบุรี สืบทราบว่าช่วงเที่ยงของวันที่ 5 ต.ค.จะมีการลำเลียงยาเสพติดจำนวนมาก เข้ามาส่งมอบกันบริเวณหน้าโรงพยาบาลบางนา 2 ถนนเทพรัตน หมู่ 3 ต.บางเสาธง อ.บางเสาธง จ.สมุทรปราการ จึงกระจายกำลังดักซุ่ม กระทั่งเวลา 13.00 น.ของวันเดียวกัน พบนายสาธิตขับรถมาจอด จึงแสดงตัวตรวจค้นพบยาบ้าจำนวน 11 กระสอบ รวม 4,500,000 เม็ด ยัดวางเรียงมาเต็มท้ายรถ ก่อนคุมตัวนายสาธิตไปตรวจค้นบ้านเช่าย่านบางบ่อ พบยาอี จำนวน 1,000 เม็ด ทางเจ้าหน้าที่จึงควบคุมตัวพร้อมของกลางไว้ดำเนินคดี ในข้อหามียาเสพติดให้โทษไว้ในความครอบครองเพื่อจำหน่ายโดยผิดกฎหมาย      ด้าน พล.ต.ท.อำพล กล่าวต่อว่า จากการสอบสวนนายสาธิตให้การรับสารภาพว่า นายสาธิต รับจ้างลำเลียงขนยาเสพติด มาจากแหล่งผลิตในประเทศเพื่อนบ้านแถบภาคเหนือของประเทศ โดยใช้เส้นทางออกมาจากภาคเหนือเข้าพื้นที่ภาคอีสาน ก่อนจะมาพักไว้ที่บ้านเช่าของนายสาธิตที่ย่านบางบ่อ จ.สมุทรปราการ เพื่อรอเคลื่อนย้ายต่อไปยังปลายทางแถบภาคใต้ หากยาบ้าลอตนี้เล็ดลอดออกไปจำหน่ายในท้องตลาด จะมีมูลค่าถึง 226,500,000 บาท อย่างไรก็ตามทางเจ้าหน้าที่เตรียมขยายผลติดตามจับกุมผู้ร่วมขบวนการ และกลุ่มนายทุนผู้บงการต่อไป.'],\n",
       "      dtype=object)"
      ]
     },
     "execution_count": 82,
     "metadata": {},
     "output_type": "execute_result"
    }
   ],
   "source": [
    "X[334]"
   ]
  },
  {
   "cell_type": "code",
   "execution_count": 83,
   "metadata": {},
   "outputs": [
    {
     "data": {
      "text/plain": [
       "array([0, 0, 0, 0, 1, 0, 0, 0], dtype=int64)"
      ]
     },
     "execution_count": 83,
     "metadata": {},
     "output_type": "execute_result"
    }
   ],
   "source": [
    "Y[334]"
   ]
  },
  {
   "cell_type": "code",
   "execution_count": 84,
   "metadata": {},
   "outputs": [],
   "source": [
    "Y_label_data = np.array(Y)"
   ]
  },
  {
   "cell_type": "code",
   "execution_count": 85,
   "metadata": {},
   "outputs": [],
   "source": [
    "from sklearn.model_selection import KFold\n",
    "from sklearn.metrics import classification_report\n",
    "from sklearn.metrics import confusion_matrix\n",
    "from sklearn import svm\n",
    "from sklearn.multioutput import ClassifierChain, MultiOutputClassifier\n",
    "import xgboost as xgb\n",
    "Labellist = ['Gambling','Murder','Sexual Abuse','Theft/Burglary','Drug','Battery/Assault','Accident','Non-Crime']\n",
    "Kfold_classification_report_data = []\n",
    "Y_Ground_Truth_data = []\n",
    "Y_Predicted_data = []\n",
    "kf = KFold(n_splits=5, random_state=42, shuffle=True)\n",
    "kf.get_n_splits(X)\n",
    "for train_index, test_index in kf.split(TFIDF_Data):\n",
    "    X_train, X_test, y_train, y_test = TFIDF_Data[train_index], TFIDF_Data[test_index], Y_label_data[train_index], Y_label_data[test_index]\n",
    "    clf_Kfold = xgb.XGBClassifier(objective='binary:logistic',random_state=42,tree_method='gpu_hist')\n",
    "    clf_Kfold = MultiOutputClassifier(clf_Kfold)\n",
    "    clf_Kfold.fit(X_train,y_train)\n",
    "    result = clf_Kfold.predict(X_test)\n",
    "    Y_Ground_Truth_data.append(y_test)\n",
    "    Y_Predicted_data.append(result)\n",
    "    Kfold_classification_report_data.append(classification_report(y_test, result,output_dict = True,target_names=Labellist))"
   ]
  },
  {
   "cell_type": "code",
   "execution_count": 86,
   "metadata": {},
   "outputs": [
    {
     "data": {
      "text/plain": [
       "array([[0, 0, 0, ..., 0, 1, 0],\n",
       "       [0, 0, 0, ..., 0, 0, 0],\n",
       "       [0, 1, 0, ..., 0, 0, 0],\n",
       "       ...,\n",
       "       [0, 0, 0, ..., 1, 0, 0],\n",
       "       [0, 0, 0, ..., 0, 1, 0],\n",
       "       [0, 1, 0, ..., 1, 0, 0]], dtype=int64)"
      ]
     },
     "execution_count": 86,
     "metadata": {},
     "output_type": "execute_result"
    }
   ],
   "source": [
    "Y_Ground_Truth_data[2]"
   ]
  },
  {
   "cell_type": "code",
   "execution_count": 87,
   "metadata": {},
   "outputs": [
    {
     "data": {
      "text/plain": [
       "array([[0, 0, 0, ..., 0, 1, 0],\n",
       "       [0, 0, 0, ..., 0, 0, 0],\n",
       "       [0, 1, 0, ..., 0, 0, 0],\n",
       "       ...,\n",
       "       [0, 0, 0, ..., 1, 0, 0],\n",
       "       [0, 0, 0, ..., 0, 1, 0],\n",
       "       [0, 1, 0, ..., 0, 0, 0]], dtype=int64)"
      ]
     },
     "execution_count": 87,
     "metadata": {},
     "output_type": "execute_result"
    }
   ],
   "source": [
    "Y_Predicted_data[2]"
   ]
  },
  {
   "cell_type": "code",
   "execution_count": 88,
   "metadata": {},
   "outputs": [
    {
     "name": "stdout",
     "output_type": "stream",
     "text": [
      "=-=-=-=-=-==-=-=-=-=-=-=-=-= 1 =-=-=-=-=-==-=-=-=-=-=-=-=-=\n",
      "                 precision    recall  f1-score   support\n",
      "\n",
      "       Gambling       0.93      0.83      0.88        52\n",
      "         Murder       0.88      0.87      0.87       473\n",
      "   Sexual Abuse       0.91      0.84      0.87       140\n",
      " Theft/Burglary       0.92      0.63      0.75       165\n",
      "           Drug       0.95      0.81      0.87       221\n",
      "Battery/Assault       0.78      0.64      0.70       372\n",
      "       Accident       0.94      0.74      0.83       153\n",
      "      Non-Crime       0.90      0.76      0.82       290\n",
      "\n",
      "      micro avg       0.88      0.76      0.82      1866\n",
      "      macro avg       0.90      0.76      0.83      1866\n",
      "   weighted avg       0.88      0.76      0.82      1866\n",
      "    samples avg       0.72      0.69      0.69      1866\n",
      "\n",
      "[[219  17   4   6   2  12   1  16]\n",
      " [ 30 403   2   0   3  20   7   1]\n",
      " [ 12   3 107   0   1   0   0   0]\n",
      " [ 34   0   0  94   0   6   0   3]\n",
      " [  8   2   2   0 155   7   1   2]\n",
      " [ 21  14   0   3   2  88   0   3]\n",
      " [ 16  11   0   0   0   2  88   1]\n",
      " [ 51   9   0   0   3   4   0 218]]\n",
      "=-=-=-=-=-==-=-=-=-=-=-=-=-= 2 =-=-=-=-=-==-=-=-=-=-=-=-=-=\n",
      "                 precision    recall  f1-score   support\n",
      "\n",
      "       Gambling       0.97      0.74      0.84        39\n",
      "         Murder       0.92      0.87      0.89       505\n",
      "   Sexual Abuse       0.96      0.87      0.91       132\n",
      " Theft/Burglary       0.91      0.69      0.78       162\n",
      "           Drug       0.95      0.82      0.88       222\n",
      "Battery/Assault       0.77      0.69      0.73       379\n",
      "       Accident       0.93      0.77      0.84       136\n",
      "      Non-Crime       0.94      0.74      0.83       298\n",
      "\n",
      "      micro avg       0.90      0.78      0.84      1873\n",
      "      macro avg       0.92      0.77      0.84      1873\n",
      "   weighted avg       0.90      0.78      0.83      1873\n",
      "    samples avg       0.72      0.70      0.70      1873\n",
      "\n",
      "[[220  10   3   7   0  11   1  10]\n",
      " [ 34 432   1   2   5  18   6   1]\n",
      " [ 10   1 103   1   0   1   0   0]\n",
      " [ 21   1   0  95   0   3   1   1]\n",
      " [ 13   1   1   0 156   1   2   0]\n",
      " [ 18  16   1   2   0 112   0   2]\n",
      " [ 13   7   0   0   0   2  72   0]\n",
      " [ 64   4   0   2   3   1   2 220]]\n",
      "=-=-=-=-=-==-=-=-=-=-=-=-=-= 3 =-=-=-=-=-==-=-=-=-=-=-=-=-=\n",
      "                 precision    recall  f1-score   support\n",
      "\n",
      "       Gambling       0.98      0.71      0.82        56\n",
      "         Murder       0.89      0.89      0.89       556\n",
      "   Sexual Abuse       0.93      0.81      0.87       124\n",
      " Theft/Burglary       0.89      0.57      0.70       140\n",
      "           Drug       0.93      0.80      0.86       202\n",
      "Battery/Assault       0.79      0.64      0.71       398\n",
      "       Accident       0.92      0.73      0.81       141\n",
      "      Non-Crime       0.87      0.79      0.82       252\n",
      "\n",
      "      micro avg       0.88      0.77      0.82      1869\n",
      "      macro avg       0.90      0.74      0.81      1869\n",
      "   weighted avg       0.88      0.77      0.82      1869\n",
      "    samples avg       0.71      0.69      0.69      1869\n",
      "\n",
      "[[235  22   2   2   3   7   4  14]\n",
      " [ 32 478   2   1   3  11   9   3]\n",
      " [ 14   3  89   1   0   3   0   1]\n",
      " [ 30   0   0  74   4   5   0   2]\n",
      " [ 13   6   0   0 132   1   2   1]\n",
      " [ 21  19   3   0   1 112   0   2]\n",
      " [ 13   6   0   1   0   0  73   3]\n",
      " [ 42   8   0   0   1   0   1 198]]\n",
      "=-=-=-=-=-==-=-=-=-=-=-=-=-= 4 =-=-=-=-=-==-=-=-=-=-=-=-=-=\n",
      "                 precision    recall  f1-score   support\n",
      "\n",
      "       Gambling       0.97      0.83      0.90        36\n",
      "         Murder       0.89      0.89      0.89       530\n",
      "   Sexual Abuse       0.94      0.80      0.86       153\n",
      " Theft/Burglary       0.90      0.69      0.78       142\n",
      "           Drug       0.95      0.77      0.85       209\n",
      "Battery/Assault       0.83      0.62      0.71       395\n",
      "       Accident       0.89      0.72      0.80       154\n",
      "      Non-Crime       0.92      0.74      0.82       285\n",
      "\n",
      "      micro avg       0.89      0.76      0.82      1904\n",
      "      macro avg       0.91      0.76      0.82      1904\n",
      "   weighted avg       0.89      0.76      0.82      1904\n",
      "    samples avg       0.72      0.69      0.69      1904\n",
      "\n",
      "[[188  13   3   5   1   9   3  11]\n",
      " [ 31 461   0   2   4  18   4   1]\n",
      " [ 18   3 112   1   0   3   0   1]\n",
      " [ 27   3   1  79   2   1   0   0]\n",
      " [ 15   8   0   2 137   5   0   1]\n",
      " [ 29  21   0   0   2  89   0   1]\n",
      " [ 19  10   0   0   0   3  79   3]\n",
      " [ 65   6   0   2   0   1   2 208]]\n",
      "=-=-=-=-=-==-=-=-=-=-=-=-=-= 5 =-=-=-=-=-==-=-=-=-=-=-=-=-=\n",
      "                 precision    recall  f1-score   support\n",
      "\n",
      "       Gambling       1.00      0.79      0.88        66\n",
      "         Murder       0.89      0.85      0.87       493\n",
      "   Sexual Abuse       0.93      0.77      0.84       124\n",
      " Theft/Burglary       0.92      0.70      0.80       165\n",
      "           Drug       0.94      0.81      0.87       185\n",
      "Battery/Assault       0.76      0.69      0.72       345\n",
      "       Accident       0.89      0.69      0.77       137\n",
      "      Non-Crime       0.84      0.75      0.79       281\n",
      "\n",
      "      micro avg       0.87      0.77      0.81      1796\n",
      "      macro avg       0.90      0.76      0.82      1796\n",
      "   weighted avg       0.87      0.77      0.81      1796\n",
      "    samples avg       0.68      0.67      0.67      1796\n",
      "\n",
      "[[249  17   2   3   2   9   4  20]\n",
      " [ 44 407   1   2   3  12   9   4]\n",
      " [ 12   0  86   3   1   7   0   1]\n",
      " [ 27   1   1  98   1   4   0   5]\n",
      " [ 11   3   0   2 134   3   0   2]\n",
      " [ 28  16   0   3   2  89   0   1]\n",
      " [ 22  14   0   0   0   0  67   3]\n",
      " [ 52   5   1   2   3   1   6 208]]\n"
     ]
    }
   ],
   "source": [
    "import seaborn as sns\n",
    "\n",
    "All_KFold = True\n",
    "Index = 2 # range: 0-9\n",
    "if All_KFold is True:\n",
    "    count = 1\n",
    "    for i in range(5):\n",
    "        print('=-=-=-=-=-==-=-=-=-=-=-=-=-= ' + str(count) + ' =-=-=-=-=-==-=-=-=-=-=-=-=-=')\n",
    "        print(classification_report(Y_Ground_Truth_data[i], Y_Predicted_data[i],target_names=Labellist))\n",
    "        print(confusion_matrix(Y_Ground_Truth_data[i].argmax(axis=1), Y_Predicted_data[i].argmax(axis=1)))\n",
    "        count += 1\n",
    "else:\n",
    "    print(('=-=-=-=-=-==-=-=-=-=-=-=-=-= ' + str(Index) + ' =-=-=-=-=-==-=-=-=-=-=-=-=-='))\n",
    "    print(classification_report(Y_Ground_Truth_data[Index], Y_Predicted_data[Index],target_names=Labellist))\n",
    "    cm = confusion_matrix(Y_Ground_Truth_data[Index].argmax(axis=1), Y_Predicted_data[Index].argmax(axis=1))\n",
    "    sns.heatmap(cm, annot=True, xticklabels = Labellist, yticklabels = Labellist)"
   ]
  },
  {
   "cell_type": "markdown",
   "metadata": {},
   "source": [
    "Convert Dict Data into List Data"
   ]
  },
  {
   "cell_type": "code",
   "execution_count": 89,
   "metadata": {},
   "outputs": [],
   "source": [
    "# ! accuracy at the last for easier to code\n",
    "Main_Class_Data = [[[],[],[],[]],[[],[],[],[]],[[],[],[],[]],[[],[],[],[]],[[],[],[],[]],[[],[],[],[]],[[],[],[],[]],[[],[],[],[]],[[],[],[],[]],[[],[],[],[]],[[],[],[],[]],[[],[],[],[]],[]]\n",
    "Class_list = ['Gambling','Murder','Sexual Abuse','Theft/Burglary','Drug','Battery/Assault','Accident','Non-Crime','micro avg','macro avg','weighted avg','samples avg']\n",
    "Sub_Class_list = ['precision','recall','f1-score','support']\n",
    "for i in range(5):\n",
    "    for j in range(12):\n",
    "        for k in range(4):\n",
    "            Main_Class_Data[j][k].append(Kfold_classification_report_data[i][Class_list[j]][Sub_Class_list[k]])"
   ]
  },
  {
   "cell_type": "markdown",
   "metadata": {},
   "source": [
    "Calculate the Avg of all classification_report"
   ]
  },
  {
   "cell_type": "code",
   "execution_count": 90,
   "metadata": {},
   "outputs": [],
   "source": [
    "from statistics import mean\n",
    "Result_Class_Data = [[[],[],[],[]],[[],[],[],[]],[[],[],[],[]],[[],[],[],[]],[[],[],[],[]],[[],[],[],[]],[[],[],[],[]],[[],[],[],[]],[[],[],[],[]],[[],[],[],[]],[[],[],[],[]],[[],[],[],[]],[]]\n",
    "for i in range(12):\n",
    "    for j in range(4):\n",
    "        Result_Class_Data[i][j].append(round(mean(Main_Class_Data[i][j]),2))"
   ]
  },
  {
   "cell_type": "markdown",
   "metadata": {},
   "source": [
    "Print the Avg of all classification report"
   ]
  },
  {
   "cell_type": "code",
   "execution_count": 92,
   "metadata": {},
   "outputs": [
    {
     "name": "stdout",
     "output_type": "stream",
     "text": [
      "=-=-=-=-= Avg Classification Report of 5 KFold =-=-=-=-=\n",
      "Gambling:     0.97     0.78     0.86     49.8\n",
      "Murder:     0.89     0.87     0.88     511.4\n",
      "Sexual Abuse:     0.93     0.82     0.87     134.6\n",
      "Theft/Burglary:     0.91     0.66     0.76     154.8\n",
      "Drug:     0.94     0.8     0.87     207.8\n",
      "Battery/Assault:     0.79     0.66     0.72     377.8\n",
      "Accident:     0.91     0.73     0.81     144.2\n",
      "Non-Crime:     0.89     0.75     0.82     281.2\n",
      "micro avg:     0.89     0.77     0.82     1861.6\n",
      "macro avg:     0.91     0.76     0.82     1861.6\n",
      "weighted avg:     0.89     0.77     0.82     1861.6\n",
      "samples avg:     0.71     0.69     0.69     1861.6\n"
     ]
    }
   ],
   "source": [
    "Class_list = ['Gambling','Murder','Sexual Abuse','Theft/Burglary','Drug','Battery/Assault','Accident','Non-Crime']\n",
    "Avg_list = ['micro avg','macro avg','weighted avg','samples avg']\n",
    "# print(' '*20 + 'precision' + ' '*5 + 'recall' + ' '*5 + 'f1-score' + ' '*5 + 'support')\n",
    "print(f'=-=-=-=-= Avg Classification Report of 5 KFold =-=-=-=-=')\n",
    "for i in range(8):\n",
    "    print(Class_list[i] + ':' + ' '*5 + str(Result_Class_Data[i][0][0]) + ' '*5 + str(Result_Class_Data[i][1][0]) + ' '*5 + str(Result_Class_Data[i][2][0]) + ' '*5 + str(Result_Class_Data[i][3][0]))\n",
    "for i in range(8,12):\n",
    "    print(Avg_list[i-8] + ':' + ' '*5 + str(Result_Class_Data[i][0][0]) + ' '*5 + str(Result_Class_Data[i][1][0]) + ' '*5 + str(Result_Class_Data[i][2][0]) + ' '*5 + str(Result_Class_Data[i][3][0]))"
   ]
  },
  {
   "cell_type": "code",
   "execution_count": null,
   "metadata": {},
   "outputs": [],
   "source": []
  }
 ],
 "metadata": {
  "interpreter": {
   "hash": "9324bf582e228a85b25eb1e944839b01655f400de8c5b05b1be93376bb92df2a"
  },
  "kernelspec": {
   "display_name": "Python 3.8.11 64-bit ('base': conda)",
   "language": "python",
   "name": "python3"
  },
  "language_info": {
   "codemirror_mode": {
    "name": "ipython",
    "version": 3
   },
   "file_extension": ".py",
   "mimetype": "text/x-python",
   "name": "python",
   "nbconvert_exporter": "python",
   "pygments_lexer": "ipython3",
   "version": "3.8.8"
  },
  "orig_nbformat": 4
 },
 "nbformat": 4,
 "nbformat_minor": 2
}
